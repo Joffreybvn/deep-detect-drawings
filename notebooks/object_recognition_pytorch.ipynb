{
  "nbformat": 4,
  "nbformat_minor": 0,
  "metadata": {
    "colab": {
      "name": "object_recognition_pytorch.ipynb",
      "provenance": [],
      "toc_visible": true
    },
    "kernelspec": {
      "name": "python3",
      "display_name": "Python 3"
    },
    "accelerator": "GPU"
  },
  "cells": [
    {
      "cell_type": "markdown",
      "metadata": {
        "id": "75Pr3a--0l9-"
      },
      "source": [
        "# Imports"
      ]
    },
    {
      "cell_type": "markdown",
      "metadata": {
        "id": "Vyu0coxg0pgL"
      },
      "source": [
        "### Installs"
      ]
    },
    {
      "cell_type": "code",
      "metadata": {
        "colab": {
          "base_uri": "https://localhost:8080/"
        },
        "id": "PGbu6_no0gXx",
        "outputId": "48a44563-1e43-4100-834f-ec4e5e41d775"
      },
      "source": [
        "!pip install pkbar"
      ],
      "execution_count": 1,
      "outputs": [
        {
          "output_type": "stream",
          "text": [
            "Requirement already satisfied: pkbar in /usr/local/lib/python3.6/dist-packages (0.5)\n",
            "Requirement already satisfied: numpy in /usr/local/lib/python3.6/dist-packages (from pkbar) (1.19.5)\n"
          ],
          "name": "stdout"
        }
      ]
    },
    {
      "cell_type": "markdown",
      "metadata": {
        "id": "7bnu170H0sw9"
      },
      "source": [
        "### Libraries"
      ]
    },
    {
      "cell_type": "code",
      "metadata": {
        "colab": {
          "base_uri": "https://localhost:8080/"
        },
        "id": "V9eDwAhF1kNM",
        "outputId": "9b73e66f-8358-4527-b3e2-c498ec1fe84d"
      },
      "source": [
        "# Model creation\n",
        "import torch\n",
        "import torchvision\n",
        "from torchvision import datasets, transforms\n",
        "from torch import nn, optim\n",
        "import torch.nn.functional as F\n",
        "import pkbar\n",
        "\n",
        "# Data manipulation\n",
        "import numpy as np\n",
        "import pandas as pd\n",
        "import matplotlib.pyplot as plt\n",
        "import seaborn as sns\n",
        "\n",
        "print(torch.__version__)\n",
        "print(torchvision.__version__)"
      ],
      "execution_count": 2,
      "outputs": [
        {
          "output_type": "stream",
          "text": [
            "1.7.0+cu101\n",
            "0.8.1+cu101\n"
          ],
          "name": "stdout"
        }
      ]
    },
    {
      "cell_type": "markdown",
      "metadata": {
        "id": "nDWl5tuP1ve0"
      },
      "source": [
        "### Device"
      ]
    },
    {
      "cell_type": "code",
      "metadata": {
        "colab": {
          "base_uri": "https://localhost:8080/"
        },
        "id": "dVElAREy1yK5",
        "outputId": "446f1181-a491-4c3c-fd6e-c6ba01e77ffe"
      },
      "source": [
        "torch.cuda.is_available()"
      ],
      "execution_count": 3,
      "outputs": [
        {
          "output_type": "execute_result",
          "data": {
            "text/plain": [
              "True"
            ]
          },
          "metadata": {
            "tags": []
          },
          "execution_count": 3
        }
      ]
    },
    {
      "cell_type": "code",
      "metadata": {
        "colab": {
          "base_uri": "https://localhost:8080/"
        },
        "id": "jCqZdce510cP",
        "outputId": "df32cd49-b7d2-4538-e885-88e762f35cf5"
      },
      "source": [
        "device = torch.device('cuda' if torch.cuda.is_available() else 'cpu')\n",
        "device"
      ],
      "execution_count": 4,
      "outputs": [
        {
          "output_type": "execute_result",
          "data": {
            "text/plain": [
              "device(type='cuda')"
            ]
          },
          "metadata": {
            "tags": []
          },
          "execution_count": 4
        }
      ]
    },
    {
      "cell_type": "markdown",
      "metadata": {
        "id": "DTCzoAZLGBTu"
      },
      "source": [
        "### Dataset"
      ]
    },
    {
      "cell_type": "code",
      "metadata": {
        "id": "mlEOxemrGCxz"
      },
      "source": [
        "# Load banana dataset\n",
        "np_banana = np.load('/content/drive/MyDrive/datas/quickdraw/full_numpy_bitmap_banana.npy')"
      ],
      "execution_count": 5,
      "outputs": []
    },
    {
      "cell_type": "code",
      "metadata": {
        "id": "b8M-YGlHHMh1"
      },
      "source": [
        "# Load axe dataset\n",
        "np_axe = np.load('/content/drive/MyDrive/datas/quickdraw/full_numpy_bitmap_axe.npy')"
      ],
      "execution_count": 6,
      "outputs": []
    },
    {
      "cell_type": "markdown",
      "metadata": {
        "id": "3PS6n3EWOIey"
      },
      "source": [
        "### Functions"
      ]
    },
    {
      "cell_type": "markdown",
      "metadata": {
        "id": "M8TqYh0XOKPT"
      },
      "source": [
        "Function to pretty print a 2d numpy matrix"
      ]
    },
    {
      "cell_type": "code",
      "metadata": {
        "id": "hWyTXbOsOJkU"
      },
      "source": [
        "def pprint_numpy_matrix(mat, fmt=\"g\"):\n",
        "    \"\"\"Pretty print a numpy matrix\"\"\"\n",
        "\n",
        "    col_maxes = [max([len((\"{:\"+fmt+\"}\").format(x)) for x in col]) for col in mat.T]\n",
        "\n",
        "    for x in mat:\n",
        "        for i, y in enumerate(x):\n",
        "            print((\"{:\"+str(col_maxes[i])+fmt+\"}\").format(y), end=\"  \")\n",
        "        print(\"\")"
      ],
      "execution_count": 7,
      "outputs": []
    },
    {
      "cell_type": "markdown",
      "metadata": {
        "id": "Lhg-jbL1oNam"
      },
      "source": [
        "### Constants"
      ]
    },
    {
      "cell_type": "code",
      "metadata": {
        "id": "0y8GSp81oQbX"
      },
      "source": [
        "BATCH_SIZE = 64"
      ],
      "execution_count": 8,
      "outputs": []
    },
    {
      "cell_type": "markdown",
      "metadata": {
        "id": "c5VaR8RWFRgO"
      },
      "source": [
        "# Exploratory Data Analysis"
      ]
    },
    {
      "cell_type": "markdown",
      "metadata": {
        "id": "ifo6rI3KIR_3"
      },
      "source": [
        "### Axe dataset"
      ]
    },
    {
      "cell_type": "markdown",
      "metadata": {
        "id": "NXw-3eA-OTjZ"
      },
      "source": [
        "#### Reshape"
      ]
    },
    {
      "cell_type": "markdown",
      "metadata": {
        "id": "B_rMh_aMIg5k"
      },
      "source": [
        "This dataset has nearly 125.000 entries. It contains flattened 28x28 images "
      ]
    },
    {
      "cell_type": "code",
      "metadata": {
        "colab": {
          "base_uri": "https://localhost:8080/"
        },
        "id": "aVeifeUYIYWB",
        "outputId": "1cc30724-4c64-43bc-977b-7fc6689d23f9"
      },
      "source": [
        "np_axe.shape"
      ],
      "execution_count": 9,
      "outputs": [
        {
          "output_type": "execute_result",
          "data": {
            "text/plain": [
              "(124122, 784)"
            ]
          },
          "metadata": {
            "tags": []
          },
          "execution_count": 9
        }
      ]
    },
    {
      "cell_type": "markdown",
      "metadata": {
        "id": "_1ZsRjlgNkMg"
      },
      "source": [
        "Reshape to 28x28"
      ]
    },
    {
      "cell_type": "code",
      "metadata": {
        "id": "Xc_V5aF9MkI4"
      },
      "source": [
        "np_axe = np_axe.reshape((np_axe.shape[0], 1, 28, 28))"
      ],
      "execution_count": 10,
      "outputs": []
    },
    {
      "cell_type": "code",
      "metadata": {
        "colab": {
          "base_uri": "https://localhost:8080/"
        },
        "id": "J7mwoZnqN_tl",
        "outputId": "f008cefc-a8c4-4888-9bea-b9515a53f8c7"
      },
      "source": [
        "np_axe.shape"
      ],
      "execution_count": 11,
      "outputs": [
        {
          "output_type": "execute_result",
          "data": {
            "text/plain": [
              "(124122, 1, 28, 28)"
            ]
          },
          "metadata": {
            "tags": []
          },
          "execution_count": 11
        }
      ]
    },
    {
      "cell_type": "markdown",
      "metadata": {
        "id": "bmZl1qcmOVwt"
      },
      "source": [
        "#### Visulalization"
      ]
    },
    {
      "cell_type": "code",
      "metadata": {
        "id": "W06noL_mOfQu"
      },
      "source": [
        "index = 5"
      ],
      "execution_count": 12,
      "outputs": []
    },
    {
      "cell_type": "code",
      "metadata": {
        "colab": {
          "base_uri": "https://localhost:8080/",
          "height": 265
        },
        "id": "UCzItTFfOc6g",
        "outputId": "314aa7dc-4e39-40e0-bf9f-e6b717a13bff"
      },
      "source": [
        "# Plot the image\n",
        "plt.imshow(np_axe[index].squeeze(), cmap='Greys', interpolation='nearest')\n",
        "plt.show()"
      ],
      "execution_count": 13,
      "outputs": [
        {
          "output_type": "display_data",
          "data": {
            "image/png": "[encoded data removed]",
            "text/plain": [
              "<Figure size 432x288 with 1 Axes>"
            ]
          },
          "metadata": {
            "tags": [],
            "needs_background": "light"
          }
        }
      ]
    },
    {
      "cell_type": "markdown",
      "metadata": {
        "id": "j3uby2c5orvb"
      },
      "source": [
        "#### Create Torch dataset"
      ]
    },
    {
      "cell_type": "code",
      "metadata": {
        "colab": {
          "base_uri": "https://localhost:8080/"
        },
        "id": "a2dn2cfdNvRa",
        "outputId": "733d0ed0-3075-4351-e71f-f951281b6380"
      },
      "source": [
        "# Rescale to [0, 1] float32\n",
        "np_axe = np_axe / 255.0\n",
        "np_axe = np_axe.astype('float32')\n",
        "\n",
        "print(\"min\", np_axe.min())\n",
        "print(\"max\", np_axe.max())"
      ],
      "execution_count": 14,
      "outputs": [
        {
          "output_type": "stream",
          "text": [
            "min 0.0\n",
            "max 1.0\n"
          ],
          "name": "stdout"
        }
      ]
    },
    {
      "cell_type": "markdown",
      "metadata": {
        "id": "nDjayVmAozNF"
      },
      "source": [
        "Create tensors of the images and labels. Label for axe = **0**"
      ]
    },
    {
      "cell_type": "code",
      "metadata": {
        "id": "M8YYVDoAota0"
      },
      "source": [
        "# Create a tensor from the images\n",
        "axe_x = torch.Tensor(np_axe)\n",
        "\n",
        "# Create a tensor with the labels\n",
        "axe_labels = np.full((np_axe.shape[0],), 0)\n",
        "axe_y = torch.Tensor(axe_labels)"
      ],
      "execution_count": 15,
      "outputs": []
    },
    {
      "cell_type": "markdown",
      "metadata": {
        "id": "eUeqPd4UqK9I"
      },
      "source": [
        "Create a dataset"
      ]
    },
    {
      "cell_type": "code",
      "metadata": {
        "id": "qP6nheDUqLxn"
      },
      "source": [
        "# Create a torch dataset\n",
        "axe = torch.utils.data.TensorDataset(axe_x, axe_y)"
      ],
      "execution_count": 16,
      "outputs": []
    },
    {
      "cell_type": "markdown",
      "metadata": {
        "id": "SBuIkdoWO1Yd"
      },
      "source": [
        "### Banana dataset"
      ]
    },
    {
      "cell_type": "markdown",
      "metadata": {
        "id": "xbqebPZaQDub"
      },
      "source": [
        "#### Reshape"
      ]
    },
    {
      "cell_type": "markdown",
      "metadata": {
        "id": "tESX7NqWPxuw"
      },
      "source": [
        "This dataset has 300.000+ entries. It contains flattened 28x28 images"
      ]
    },
    {
      "cell_type": "code",
      "metadata": {
        "colab": {
          "base_uri": "https://localhost:8080/"
        },
        "id": "4G5WWmyHO3Fs",
        "outputId": "cfe42858-14a6-4a49-9d56-388a2ae1f91a"
      },
      "source": [
        "np_banana.shape"
      ],
      "execution_count": 17,
      "outputs": [
        {
          "output_type": "execute_result",
          "data": {
            "text/plain": [
              "(307936, 784)"
            ]
          },
          "metadata": {
            "tags": []
          },
          "execution_count": 17
        }
      ]
    },
    {
      "cell_type": "markdown",
      "metadata": {
        "id": "1ercej06P6O9"
      },
      "source": [
        "Reshape to 28x28"
      ]
    },
    {
      "cell_type": "code",
      "metadata": {
        "id": "hdXUrbbUP7-M"
      },
      "source": [
        "np_banana = np_banana.reshape((np_banana.shape[0], 1, 28, 28))"
      ],
      "execution_count": 18,
      "outputs": []
    },
    {
      "cell_type": "code",
      "metadata": {
        "colab": {
          "base_uri": "https://localhost:8080/"
        },
        "id": "8fWN199KQAgC",
        "outputId": "dff7404e-d779-42d0-f246-8e2cdc59b8eb"
      },
      "source": [
        "np_banana.shape"
      ],
      "execution_count": 19,
      "outputs": [
        {
          "output_type": "execute_result",
          "data": {
            "text/plain": [
              "(307936, 1, 28, 28)"
            ]
          },
          "metadata": {
            "tags": []
          },
          "execution_count": 19
        }
      ]
    },
    {
      "cell_type": "markdown",
      "metadata": {
        "id": "Sg-yxQU_QFsV"
      },
      "source": [
        "#### Visualization"
      ]
    },
    {
      "cell_type": "code",
      "metadata": {
        "id": "cG6bOaG9RWZb"
      },
      "source": [
        "index = 0"
      ],
      "execution_count": 20,
      "outputs": []
    },
    {
      "cell_type": "code",
      "metadata": {
        "colab": {
          "base_uri": "https://localhost:8080/",
          "height": 265
        },
        "id": "4bvOxewzRXSc",
        "outputId": "345d9f7d-abe5-42e5-a9ed-5edbdc284d08"
      },
      "source": [
        "# Plot the image\n",
        "plt.imshow(np_banana[index].squeeze(), cmap='Greys', interpolation='nearest')\n",
        "plt.show()"
      ],
      "execution_count": 21,
      "outputs": [
        {
          "output_type": "display_data",
          "data": {
            "image/png": "[encoded data removed]",
            "text/plain": [
              "<Figure size 432x288 with 1 Axes>"
            ]
          },
          "metadata": {
            "tags": [],
            "needs_background": "light"
          }
        }
      ]
    },
    {
      "cell_type": "markdown",
      "metadata": {
        "id": "z7dEq4g_mwzw"
      },
      "source": [
        "#### Create Torch dataset"
      ]
    },
    {
      "cell_type": "code",
      "metadata": {
        "colab": {
          "base_uri": "https://localhost:8080/"
        },
        "id": "Q8HWF-soOSMW",
        "outputId": "f2b0b168-d9fb-4c30-f7d7-2e619d6b167c"
      },
      "source": [
        "# Rescale to [0, 1] float32\n",
        "np_banana = np_banana / 255.0\n",
        "np_banana = np_banana.astype('float32')\n",
        "\n",
        "print(\"min\", np_banana.min())\n",
        "print(\"max\", np_banana.max())"
      ],
      "execution_count": 22,
      "outputs": [
        {
          "output_type": "stream",
          "text": [
            "min 0.0\n",
            "max 1.0\n"
          ],
          "name": "stdout"
        }
      ]
    },
    {
      "cell_type": "markdown",
      "metadata": {
        "id": "wN7Ml7p4npiT"
      },
      "source": [
        "Create tensors of the images and labels. Label for banana = **1**"
      ]
    },
    {
      "cell_type": "code",
      "metadata": {
        "id": "fsU92DdXmzAq"
      },
      "source": [
        "# Create a tensor from the images\n",
        "banana_x = torch.Tensor(np_banana)\n",
        "\n",
        "# Create a tensor with the labels\n",
        "banana_labels = np.full((np_banana.shape[0],), 1)\n",
        "banana_y = torch.Tensor(banana_labels)"
      ],
      "execution_count": 23,
      "outputs": []
    },
    {
      "cell_type": "markdown",
      "metadata": {
        "id": "JczNq5aun1CW"
      },
      "source": [
        "Create a dataset"
      ]
    },
    {
      "cell_type": "code",
      "metadata": {
        "id": "pyB-0l_mn2xp"
      },
      "source": [
        "# Create a torch dataset\n",
        "banana = torch.utils.data.TensorDataset(banana_x, banana_y)"
      ],
      "execution_count": 24,
      "outputs": []
    },
    {
      "cell_type": "markdown",
      "metadata": {
        "id": "RvVltt6rqg_C"
      },
      "source": [
        "# Creation Data Loader"
      ]
    },
    {
      "cell_type": "markdown",
      "metadata": {
        "id": "ohCitjWvqmvU"
      },
      "source": [
        "To use the data with a PyTorch model, we need to create data loaders from the dataset."
      ]
    },
    {
      "cell_type": "code",
      "metadata": {
        "id": "UuVjmQzmrCaQ"
      },
      "source": [
        "# Concatenate the datasets\n",
        "dataset = torch.utils.data.ConcatDataset([axe, banana])"
      ],
      "execution_count": 25,
      "outputs": []
    },
    {
      "cell_type": "code",
      "metadata": {
        "colab": {
          "base_uri": "https://localhost:8080/"
        },
        "id": "PnXatsocrM6_",
        "outputId": "bf77e23f-c278-4ff9-eddc-4f840e7025b7"
      },
      "source": [
        "len(dataset)"
      ],
      "execution_count": 26,
      "outputs": [
        {
          "output_type": "execute_result",
          "data": {
            "text/plain": [
              "432058"
            ]
          },
          "metadata": {
            "tags": []
          },
          "execution_count": 26
        }
      ]
    },
    {
      "cell_type": "code",
      "metadata": {
        "colab": {
          "base_uri": "https://localhost:8080/"
        },
        "id": "yLFVcsEGwQHD",
        "outputId": "e474b3ee-9ed0-41a1-f97e-7c47a138ceda"
      },
      "source": [
        "# Split the lenght of the whole dataset - 70%/30%\n",
        "whole_lenght = len(dataset)\n",
        "\n",
        "train_lenght = int((0.7 * whole_lenght))\n",
        "test_lenght = whole_lenght - train_lenght\n",
        "\n",
        "print(\"train len:\", train_lenght, \"test len:\", test_lenght)"
      ],
      "execution_count": 27,
      "outputs": [
        {
          "output_type": "stream",
          "text": [
            "train len: 302440 test len: 129618\n"
          ],
          "name": "stdout"
        }
      ]
    },
    {
      "cell_type": "code",
      "metadata": {
        "id": "_3kwwXoHrdta"
      },
      "source": [
        "# Split the dataset\n",
        "\n",
        "train, test = torch.utils.data.random_split(\n",
        "    dataset,\n",
        "    [train_lenght, test_lenght],\n",
        "    generator=torch.Generator().manual_seed(42)\n",
        ")"
      ],
      "execution_count": 28,
      "outputs": []
    },
    {
      "cell_type": "code",
      "metadata": {
        "id": "7WKq24uYxfe8"
      },
      "source": [
        "# Create the data loader\n",
        "\n",
        "train_loader = torch.utils.data.DataLoader(train, batch_size=BATCH_SIZE, shuffle=True)\n",
        "test_loader = torch.utils.data.DataLoader(test, batch_size=BATCH_SIZE, shuffle=True)"
      ],
      "execution_count": 29,
      "outputs": []
    },
    {
      "cell_type": "markdown",
      "metadata": {
        "id": "KjKLmfYn1Vjz"
      },
      "source": [
        "# Model"
      ]
    },
    {
      "cell_type": "markdown",
      "metadata": {
        "id": "gC6T6KVH1W5A"
      },
      "source": [
        "### Creation"
      ]
    },
    {
      "cell_type": "code",
      "metadata": {
        "id": "ly39mabp1YmO"
      },
      "source": [
        "class CNN(nn.Module):\n",
        "\n",
        "    def __init__(self):\n",
        "        super(CNN, self).__init__()\n",
        "\n",
        "        # Features detector\n",
        "        self.features1 = nn.Sequential(\n",
        "            \n",
        "            # Hidden layer 1\n",
        "            nn.Conv2d(1, 32, kernel_size=3), nn.ReLU(),\n",
        "            nn.BatchNorm2d(32),\n",
        "\n",
        "            # Hidden layer 2\n",
        "            nn.Conv2d(32, 32, kernel_size=3), nn.ReLU(),\n",
        "            nn.BatchNorm2d(32),\n",
        "\n",
        "            nn.MaxPool2d((2, 2)),\n",
        "            nn.Dropout(0.2)\n",
        "        )\n",
        "\n",
        "        # Features detector\n",
        "        self.features2 = nn.Sequential(\n",
        "            \n",
        "            # Hidden layer 3\n",
        "            nn.Conv2d(32, 64, kernel_size=3), nn.ReLU(),\n",
        "            nn.BatchNorm2d(64),\n",
        "\n",
        "            # Hidden layer 4\n",
        "            nn.Conv2d(64, 64, kernel_size=3), nn.ReLU(),\n",
        "            nn.BatchNorm2d(64),\n",
        "\n",
        "            nn.MaxPool2d((2, 2)),\n",
        "            nn.Dropout(0.3)\n",
        "        )\n",
        "\n",
        "        # Features detector\n",
        "        self.features3 = nn.Sequential(\n",
        "            \n",
        "            # Hidden layer 4\n",
        "            nn.Conv2d(64, 128, kernel_size=3, padding=(1, 1)), nn.ReLU(),\n",
        "            nn.BatchNorm2d(128),\n",
        "\n",
        "            # Hidden layer 5\n",
        "            nn.Conv2d(128, 128, kernel_size=3), nn.ReLU(),\n",
        "            nn.BatchNorm2d(128),\n",
        "\n",
        "            nn.MaxPool2d((2, 2)),\n",
        "            nn.Dropout(0.4),\n",
        "        )\n",
        "\n",
        "        # Classifier\n",
        "        self.classifier = nn.Sequential(\n",
        "            nn.Linear(128, 128), nn.ReLU(),\n",
        "            nn.BatchNorm1d(128),\n",
        "            nn.Dropout(0.5),\n",
        "\n",
        "            # Output layer\n",
        "            nn.Linear(128, 2)\n",
        "        )\n",
        "\n",
        "    def forward(self, X):\n",
        "\n",
        "        # Features\n",
        "        X = self.features1(X)\n",
        "        X = self.features2(X)\n",
        "        X = self.features3(X)\n",
        "\n",
        "        # Classifier\n",
        "        #X = X.view(-1, 64*128*1*1)\n",
        "        X = X.view(X.size(0), -1)\n",
        "        X = self.classifier(X)\n",
        "\n",
        "        return F.log_softmax(X, dim=1)"
      ],
      "execution_count": 30,
      "outputs": []
    },
    {
      "cell_type": "code",
      "metadata": {
        "colab": {
          "base_uri": "https://localhost:8080/"
        },
        "id": "NjhoTmBH1pGn",
        "outputId": "9e8b3a43-7a2b-42f2-e75c-59024f865d65"
      },
      "source": [
        "model = CNN()\n",
        "model.to(device)"
      ],
      "execution_count": 31,
      "outputs": [
        {
          "output_type": "execute_result",
          "data": {
            "text/plain": [
              "CNN(\n",
              "  (features1): Sequential(\n",
              "    (0): Conv2d(1, 32, kernel_size=(3, 3), stride=(1, 1))\n",
              "    (1): ReLU()\n",
              "    (2): BatchNorm2d(32, eps=1e-05, momentum=0.1, affine=True, track_running_stats=True)\n",
              "    (3): Conv2d(32, 32, kernel_size=(3, 3), stride=(1, 1))\n",
              "    (4): ReLU()\n",
              "    (5): BatchNorm2d(32, eps=1e-05, momentum=0.1, affine=True, track_running_stats=True)\n",
              "    (6): MaxPool2d(kernel_size=(2, 2), stride=(2, 2), padding=0, dilation=1, ceil_mode=False)\n",
              "    (7): Dropout(p=0.2, inplace=False)\n",
              "  )\n",
              "  (features2): Sequential(\n",
              "    (0): Conv2d(32, 64, kernel_size=(3, 3), stride=(1, 1))\n",
              "    (1): ReLU()\n",
              "    (2): BatchNorm2d(64, eps=1e-05, momentum=0.1, affine=True, track_running_stats=True)\n",
              "    (3): Conv2d(64, 64, kernel_size=(3, 3), stride=(1, 1))\n",
              "    (4): ReLU()\n",
              "    (5): BatchNorm2d(64, eps=1e-05, momentum=0.1, affine=True, track_running_stats=True)\n",
              "    (6): MaxPool2d(kernel_size=(2, 2), stride=(2, 2), padding=0, dilation=1, ceil_mode=False)\n",
              "    (7): Dropout(p=0.3, inplace=False)\n",
              "  )\n",
              "  (features3): Sequential(\n",
              "    (0): Conv2d(64, 128, kernel_size=(3, 3), stride=(1, 1), padding=(1, 1))\n",
              "    (1): ReLU()\n",
              "    (2): BatchNorm2d(128, eps=1e-05, momentum=0.1, affine=True, track_running_stats=True)\n",
              "    (3): Conv2d(128, 128, kernel_size=(3, 3), stride=(1, 1))\n",
              "    (4): ReLU()\n",
              "    (5): BatchNorm2d(128, eps=1e-05, momentum=0.1, affine=True, track_running_stats=True)\n",
              "    (6): MaxPool2d(kernel_size=(2, 2), stride=(2, 2), padding=0, dilation=1, ceil_mode=False)\n",
              "    (7): Dropout(p=0.4, inplace=False)\n",
              "  )\n",
              "  (classifier): Sequential(\n",
              "    (0): Linear(in_features=128, out_features=128, bias=True)\n",
              "    (1): ReLU()\n",
              "    (2): BatchNorm1d(128, eps=1e-05, momentum=0.1, affine=True, track_running_stats=True)\n",
              "    (3): Dropout(p=0.5, inplace=False)\n",
              "    (4): Linear(in_features=128, out_features=2, bias=True)\n",
              "  )\n",
              ")"
            ]
          },
          "metadata": {
            "tags": []
          },
          "execution_count": 31
        }
      ]
    },
    {
      "cell_type": "markdown",
      "metadata": {
        "id": "-N3NKTcn42by"
      },
      "source": [
        "### Evaluation function"
      ]
    },
    {
      "cell_type": "code",
      "metadata": {
        "id": "yXY-5mec44F7"
      },
      "source": [
        "class ProgressBar:\n",
        "\n",
        "    def __init__(self, dataset_len, batch_size, max_epochs, current_epoch):\n",
        "        \n",
        "        self.correct = 0\n",
        "        self.batch_size = batch_size\n",
        "\n",
        "        train_per_epoch = (dataset_len - (dataset_len % self.batch_size)) / self.batch_size\n",
        "        self.bar = pkbar.Kbar(target=train_per_epoch + 1,\n",
        "                              epoch=current_epoch,\n",
        "                              num_epochs=max_epochs,\n",
        "                              width=30,\n",
        "                              always_stateful=False)\n",
        "\n",
        "    def update(self, output, y_batch, batch_id, loss):\n",
        "\n",
        "        # Math the train loss and accuracy for current batch\n",
        "        predicted = torch.max(output.data, 1)[1]\n",
        "        self.correct += (predicted == y_batch).sum()\n",
        "        accuracy = float(self.correct * 100) / float(self.batch_size * (batch_id + 1))\n",
        "\n",
        "        self.bar.update(batch_id, values=[(\"loss\", loss.data), (\"accuracy\", accuracy)])\n",
        "        return loss.data, accuracy\n",
        "\n",
        "    def evaluate(self, model, criterion, test_loader):\n",
        "        correct = 0\n",
        "\n",
        "        for X_batch, y_batch in test_loader:\n",
        "            X_batch, y_batch = X_batch.to(device), y_batch.to(device)\n",
        "\n",
        "            output = model(X_batch)\n",
        "            loss = criterion(output, y_batch.long())\n",
        "\n",
        "            # Math correct output\n",
        "            predicted = torch.max(output, 1)[1]\n",
        "            correct += (predicted == y_batch).sum()\n",
        "\n",
        "        accuracy = float(correct * 100) / float(self.batch_size * len(test_loader))\n",
        "\n",
        "        self.bar.add(1, values=[(\"val_loss\", loss), (\"val_accuracy\", accuracy)])\n",
        "        return loss, accuracy"
      ],
      "execution_count": 32,
      "outputs": []
    },
    {
      "cell_type": "code",
      "metadata": {
        "id": "XdhFkEK0GdjZ"
      },
      "source": [
        "class History:\n",
        "\n",
        "  def __init__(self):\n",
        "\n",
        "    self.loss = {}\n",
        "    self.accuracy = {}\n",
        "\n",
        "    self.val_loss = []\n",
        "    self.val_accuracy = []\n",
        "  \n",
        "\n",
        "  def add_train(self, index, loss, accuracy):\n",
        "    self.loss[index] = loss.item()\n",
        "    self.accuracy[index] = accuracy\n",
        "  \n",
        "  def append_valication(self, index, loss, accuracy):\n",
        "    self.val_loss.append(loss.item())\n",
        "    self.val_accuracy.append(accuracy)"
      ],
      "execution_count": 33,
      "outputs": []
    },
    {
      "cell_type": "markdown",
      "metadata": {
        "id": "KEEkKSoX474g"
      },
      "source": [
        "### Training function"
      ]
    },
    {
      "cell_type": "code",
      "metadata": {
        "id": "YuuL4k-qEOGO"
      },
      "source": [
        "  EPOCHS = 2"
      ],
      "execution_count": 34,
      "outputs": []
    },
    {
      "cell_type": "code",
      "metadata": {
        "id": "U2zg8iVz49N_"
      },
      "source": [
        "def fit(model, train_loader, test_loader):\n",
        "\n",
        "  # Set the history dict\n",
        "  history = History()\n",
        "\n",
        "  # Define model loss function and optimizer\n",
        "  optimizer = torch.optim.Adam(model.parameters())\n",
        "  criterion = nn.CrossEntropyLoss()\n",
        "\n",
        "  model.train()\n",
        "\n",
        "  # Loop for each epochs\n",
        "  for epoch in range(EPOCHS):\n",
        "    progress = ProgressBar(len(train_loader.dataset), BATCH_SIZE, EPOCHS, epoch)\n",
        "\n",
        "    # Loop for each batch\n",
        "    for batch_id, (X_batch, y_batch) in enumerate(train_loader):\n",
        "      X_batch, y_batch = X_batch.to(device), y_batch.to(device)\n",
        "\n",
        "      # Training pass\n",
        "      optimizer.zero_grad()\n",
        "\n",
        "      output = model(X_batch)\n",
        "      loss = criterion(output, y_batch.long())\n",
        "\n",
        "      # Model learn by backpropagating\n",
        "      loss.backward()\n",
        "      optimizer.step()\n",
        "\n",
        "      history_loss, history_acc = progress.update(output, y_batch, batch_id, loss)\n",
        "      history.add_train(epoch, history_loss, history_acc)\n",
        "\n",
        "    history_val_loss, history_val_acc = progress.evaluate(model, criterion, test_loader)\n",
        "    history.append_valication(epoch, history_val_loss, history_val_acc)\n",
        "  \n",
        "  return history"
      ],
      "execution_count": 35,
      "outputs": []
    },
    {
      "cell_type": "markdown",
      "metadata": {
        "id": "EgOEIUm1Iapy"
      },
      "source": [
        "### Training"
      ]
    },
    {
      "cell_type": "code",
      "metadata": {
        "colab": {
          "base_uri": "https://localhost:8080/"
        },
        "id": "4lBQ1lH14_7k",
        "outputId": "c0744950-ae2e-4de1-df0c-02606adc248f"
      },
      "source": [
        "history = fit(model, train_loader, test_loader)"
      ],
      "execution_count": 36,
      "outputs": [
        {
          "output_type": "stream",
          "text": [
            "Epoch: 1/2\n",
            "4726/4726 [==============================] - 50s 11ms/step - loss: 0.0606 - accuracy: 96.9056 - val_loss: 0.0015 - val_accuracy: 98.2547\n",
            "Epoch: 2/2\n",
            "4726/4726 [==============================] - 51s 11ms/step - loss: 0.0391 - accuracy: 98.4578 - val_loss: 0.0079 - val_accuracy: 98.4360\n"
          ],
          "name": "stdout"
        }
      ]
    },
    {
      "cell_type": "markdown",
      "metadata": {
        "id": "OOaA33ehId4Q"
      },
      "source": [
        "# Evaluation"
      ]
    },
    {
      "cell_type": "code",
      "metadata": {
        "colab": {
          "base_uri": "https://localhost:8080/",
          "height": 265
        },
        "id": "lFqPbxqHIibi",
        "outputId": "56136aa0-29d1-4bd5-aaf4-48795e781724"
      },
      "source": [
        "plt.plot(list(history.loss.values()), label='Train Loss')\n",
        "plt.plot(history.val_loss, label='Validation Loss')\n",
        "plt.legend()\n",
        "\n",
        "plt.show()"
      ],
      "execution_count": 37,
      "outputs": [
        {
          "output_type": "display_data",
          "data": {
            "image/png": "[encoded data removed]",
            "text/plain": [
              "<Figure size 432x288 with 1 Axes>"
            ]
          },
          "metadata": {
            "tags": [],
            "needs_background": "light"
          }
        }
      ]
    },
    {
      "cell_type": "code",
      "metadata": {
        "colab": {
          "base_uri": "https://localhost:8080/",
          "height": 265
        },
        "id": "oUDPu113M8tM",
        "outputId": "0c64f0c4-8c49-4047-b6ac-68133db388b6"
      },
      "source": [
        "plt.plot(list(history.accuracy.values()), label='Train accuracy')\n",
        "plt.plot(history.val_accuracy, label='Validation accuracy')\n",
        "plt.legend()\n",
        "plt.show()"
      ],
      "execution_count": 38,
      "outputs": [
        {
          "output_type": "display_data",
          "data": {
            "image/png": "[encoded data removed]",
            "text/plain": [
              "<Figure size 432x288 with 1 Axes>"
            ]
          },
          "metadata": {
            "tags": [],
            "needs_background": "light"
          }
        }
      ]
    },
    {
      "cell_type": "markdown",
      "metadata": {
        "id": "ovjfNP4TNHU5"
      },
      "source": [
        "# Exportation"
      ]
    },
    {
      "cell_type": "code",
      "metadata": {
        "id": "yQF6e25eNiwP"
      },
      "source": [
        "torch.save(model.state_dict(), \"model.pt\")"
      ],
      "execution_count": 40,
      "outputs": []
    }
  ]
}